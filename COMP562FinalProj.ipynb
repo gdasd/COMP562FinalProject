{
 "cells": [
  {
   "cell_type": "code",
   "execution_count": 8,
   "metadata": {},
   "outputs": [],
   "source": [
    "import matplotlib.pyplot as plt\n",
    "%matplotlib inline\n",
    "import numpy\n",
    "import random"
   ]
  },
  {
   "cell_type": "code",
   "execution_count": 4,
   "metadata": {},
   "outputs": [
    {
     "name": "stdout",
     "output_type": "stream",
     "text": [
      "27 bci_bci\n",
      "32 bl_asymf\n",
      "105 gle_cgdpc\n",
      "116 gpi_gpi\n",
      "181 undp_hdi\n"
     ]
    }
   ],
   "source": [
    "# open and read in csv values\n",
    "file = open(\"./qog_bas_ts_jan20.csv\")\n",
    "rows = file.read().split(\"\\n\")\n",
    "file.close()\n",
    "\n",
    "# find index of csv values i'm interested in\n",
    "for row in rows:\n",
    "    value = row.split(',')\n",
    "    for i in range(len(value)):\n",
    "            if value[i]=='gle_cgdpc':\n",
    "                print(i, 'gle_cgdpc')\n",
    "            if value[i]=='bl_asymf':\n",
    "                print(i, 'bl_asymf')\n",
    "            if value[i]=='gpi_gpi':\n",
    "                print(i, 'gpi_gpi')\n",
    "            if value[i]=='undp_hdi':\n",
    "                print(i, 'undp_hdi')\n",
    "            if value[i]=='bci_bci':\n",
    "                print(i, 'bci_bci')\n",
    "    break"
   ]
  },
  {
   "cell_type": "code",
   "execution_count": 27,
   "metadata": {},
   "outputs": [],
   "source": [
    "# initialize array to hold X and Y initially\n",
    "hdi = numpy.zeros((15616,1))   \n",
    "vars = numpy.zeros((15616,4))\n",
    "\n",
    "# loop through dataset and add values to arrays where not null\n",
    "i = 0\n",
    "k = 0\n",
    "for row in rows[1:15615]:\n",
    "    j = 0\n",
    "    value = row.split(',')\n",
    "    k+=1\n",
    "    if (len(value) == 289):\n",
    "        value[1] = value[1] + value[2]\n",
    "        value[5] = value[5] + value[6]\n",
    "        value.pop(6)\n",
    "        value.pop(2)\n",
    "    if (value[181] == '' or value[105] == '' or value[116] == '' or value[32] == ''):\n",
    "        continue\n",
    "    hdi[i][0] = float(value[181])\n",
    "    vars[i][j] = float(value[27])\n",
    "    j+=1\n",
    "    vars[i][j] = float(value[105])\n",
    "    j+=1\n",
    "    vars[i][j] = float(value[116])\n",
    "    j+=1\n",
    "    vars[i][j] = float(value[32])\n",
    "    i+=1\n",
    "    \n",
    "# remove unset rows and standardize variables\n",
    "hdi2 = hdi[0:i]\n",
    "vars2 = vars[0:i,:]\n",
    "vars2[:,0]=(vars2[:,0]-numpy.mean(vars2[:,0]))/(numpy.std(vars2[:,0]))\n",
    "vars2[:,1]=(vars2[:,1]-numpy.mean(vars2[:,1]))/numpy.std(vars2[:,1])\n",
    "vars2[:,2]=(vars2[:,2]-numpy.mean(vars2[:,2]))/numpy.std(vars2[:,2])\n",
    "vars2[:,3]=(vars2[:,3]-numpy.mean(vars2[:,3]))/numpy.std(vars2[:,3])\n",
    "hdi2std=numpy.std(hdi2)\n",
    "hdi2mean=numpy.mean(hdi2)\n",
    "hdi2=(hdi2-numpy.mean(hdi2))/numpy.std(hdi2)"
   ]
  },
  {
   "cell_type": "code",
   "execution_count": 33,
   "metadata": {},
   "outputs": [],
   "source": [
    "# set random seed and generate random indices for training/testing split\n",
    "random.seed(216)\n",
    "sequence = [k for k in range(len(hdi2))]\n",
    "test = random.sample(sequence,30)\n",
    "\n",
    "hditest = []\n",
    "vartest = []\n",
    "hditrain = []\n",
    "vartrain = []\n",
    "    \n",
    "\n",
    "for k in range(len(hdi2)):\n",
    "    if (k in test):\n",
    "        hditest.append(hdi2[k])\n",
    "        vartest.append(vars2[k])\n",
    "    else:\n",
    "        hditrain.append(hdi2[k])\n",
    "        vartrain.append(vars2[k])\n",
    "                "
   ]
  },
  {
   "cell_type": "code",
   "execution_count": 34,
   "metadata": {},
   "outputs": [],
   "source": [
    "hditest = numpy.asarray(hditest)\n",
    "hditrain = numpy.asarray(hditrain)\n",
    "vartest = numpy.asarray(vartest)\n",
    "varstrain = numpy.asarray(vartrain)"
   ]
  },
  {
   "cell_type": "code",
   "execution_count": 35,
   "metadata": {},
   "outputs": [],
   "source": [
    "# function to return betas given x,y,lambdas for linear regression with ridge penalty\n",
    "def solve_ridgelinear_regression(X,Y, lambdas):\n",
    "    N = len(Y)\n",
    "    X1 = numpy.hstack((numpy.ones((N,1)),X))\n",
    "    lams = numpy.diagflat(numpy.ones(X1.shape[1])) * lambdas\n",
    "    lams[0,0] = 0\n",
    "    betas = numpy.dot(numpy.linalg.inv(numpy.dot(X1.transpose(),X1)+lams),numpy.dot(X1.transpose(),Y))  \n",
    "    return betas"
   ]
  },
  {
   "cell_type": "code",
   "execution_count": 37,
   "metadata": {},
   "outputs": [
    {
     "name": "stdout",
     "output_type": "stream",
     "text": [
      "12 0.43329442101270105\n"
     ]
    }
   ],
   "source": [
    "# loop over 25 different possible lambda values\n",
    "minerror = 100\n",
    "minlambda = 0\n",
    "vars21 = numpy.concatenate((numpy.ones((1,vartest.shape[0])).T,vartest),axis=1)\n",
    "for i in range(25):  \n",
    "    betas_mle = solve_ridgelinear_regression(varstrain,hditrain,i)\n",
    "\n",
    "    if (numpy.sqrt(numpy.mean((hditest-numpy.dot(vars21,betas_mle))**2))) < minerror:\n",
    "        minerror = (numpy.sqrt(numpy.mean((hditest-numpy.dot(vars21,betas_mle))**2)))\n",
    "        minlambda = i\n",
    "        \n",
    "# print out lambda and smallest error\n",
    "betas_mle_exact2 = solve_ridgelinear_regression(vars2,hdi2,minlambda)\n",
    "print(minlambda, minerror)"
   ]
  },
  {
   "cell_type": "code",
   "execution_count": 40,
   "metadata": {},
   "outputs": [
    {
     "data": {
      "text/plain": [
       "Text(0, 0.5, 'Predicted')"
      ]
     },
     "execution_count": 40,
     "metadata": {},
     "output_type": "execute_result"
    },
    {
     "data": {
      "image/png": "[encoded data removed]",
      "text/plain": [
       "<Figure size 432x288 with 1 Axes>"
      ]
     },
     "metadata": {
      "needs_background": "light"
     },
     "output_type": "display_data"
    }
   ],
   "source": [
    "plt.plot((hditest*hdi2std + hdi2mean)[:,0],numpy.dot(vars21,betas_mle_exact2)*hdi2std + hdi2mean, 'ro')\n",
    "plt.plot([0.3,1],[0.3,1])\n",
    "plt.xlabel('Actual')\n",
    "plt.ylabel('Predicted')"
   ]
  },
  {
   "cell_type": "code",
   "execution_count": 41,
   "metadata": {},
   "outputs": [
    {
     "name": "stdout",
     "output_type": "stream",
     "text": [
      "[[-2.94153769e-16]\n",
      " [-1.63077034e-01]\n",
      " [ 2.18191699e-01]\n",
      " [-2.20504413e-02]\n",
      " [ 6.13149293e-01]]\n"
     ]
    }
   ],
   "source": [
    "print(betas_mle_exact2)"
   ]
  },
  {
   "cell_type": "code",
   "execution_count": null,
   "metadata": {},
   "outputs": [],
   "source": []
  }
 ],
 "metadata": {
  "kernelspec": {
   "display_name": "Python 3",
   "language": "python",
   "name": "python3"
  },
  "language_info": {
   "codemirror_mode": {
    "name": "ipython",
    "version": 3
   },
   "file_extension": ".py",
   "mimetype": "text/x-python",
   "name": "python",
   "nbconvert_exporter": "python",
   "pygments_lexer": "ipython3",
   "version": "3.7.3"
  }
 },
 "nbformat": 4,
 "nbformat_minor": 2
}
